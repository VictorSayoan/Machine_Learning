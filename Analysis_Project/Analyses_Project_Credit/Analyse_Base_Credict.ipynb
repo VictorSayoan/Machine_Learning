{
 "cells": [
  {
   "cell_type": "code",
   "execution_count": null,
   "metadata": {},
   "outputs": [],
   "source": [
    "import pandas as pd\n",
    "import numpy as np\n",
    "\n",
    "Base_Credit = pd.read_csv('credit_data.csv')\n",
    "print(Base_Credit)\n",
    "print(f'\\n\\n{Base_Credit.describe()}')\n",
    "print(Base_Credit.columns)\n",
    "print(f'\\n\\n{Base_Credit.isnull().sum()}')\n",
    "\n",
    "np.unique(Base_Credit['default'], return_counts=True)"
   ]
  },
  {
   "cell_type": "code",
   "execution_count": null,
   "metadata": {},
   "outputs": [],
   "source": [
    "import matplotlib.pyplot as plt\n",
    "\n",
    "plt.figure(1)\n",
    "plt.hist(Base_Credit['income']);\n",
    "plt.title('Gráfico da renda')\n",
    "plt.ylabel('Quantidade de entrevistados')\n",
    "plt.xlabel('Renda')\n",
    "\n",
    "plt.figure(2)\n",
    "plt.hist(Base_Credit['age']);\n",
    "plt.title('Gráfico da idade')\n",
    "plt.xlabel('Idade')\n",
    "plt.ylabel('Quantidade de entrevistados')\n",
    "\n",
    "plt.figure(3)\n",
    "plt.hist(Base_Credit['loan'])\n",
    "plt.title('Gráfico da Dívida')\n",
    "plt.xlabel('Dívida')\n",
    "plt.ylabel('Quantidade de entrevistados')\n",
    "\n"
   ]
  },
  {
   "cell_type": "code",
   "execution_count": null,
   "metadata": {},
   "outputs": [],
   "source": [
    "# Valores nulos:\n",
    "Base_Credit.loc[Base_Credit['age'] < 0]"
   ]
  },
  {
   "cell_type": "code",
   "execution_count": null,
   "metadata": {},
   "outputs": [],
   "source": [
    "# média das idades com valores maiores que 0:\n",
    "Media_Idade = Base_Credit['age'][Base_Credit['age'] > 0].mean()\n",
    "print(f'Media das idades da base de dados: {round(Media_Idade, 2)} anos')"
   ]
  },
  {
   "cell_type": "code",
   "execution_count": null,
   "metadata": {},
   "outputs": [],
   "source": [
    "# Tratamento de valores inconsistentes: \n",
    "Base_Credit.loc[Base_Credit['age'] < 0, 'age'] = Media_Idade\n",
    "Base_Credit.loc[Base_Credit['clientid'].isin([16, 22, 27])]"
   ]
  },
  {
   "cell_type": "code",
   "execution_count": null,
   "metadata": {},
   "outputs": [],
   "source": [
    "#Tratamento de valores faltantes:\n",
    "print(Base_Credit.isnull().sum())\n",
    "Base_Credit.loc[Base_Credit['age'].isnull()]\n"
   ]
  },
  {
   "cell_type": "code",
   "execution_count": null,
   "metadata": {},
   "outputs": [],
   "source": [
    "# Substitui os valores faltantes pela média da idades:\n",
    "Base_Credit['age'].fillna(Base_Credit['age'].mean(), inplace=True)"
   ]
  },
  {
   "cell_type": "code",
   "execution_count": null,
   "metadata": {},
   "outputs": [],
   "source": [
    "Base_Credit.loc[Base_Credit['clientid'].isin([29,31,32])]"
   ]
  },
  {
   "cell_type": "code",
   "execution_count": null,
   "metadata": {},
   "outputs": [],
   "source": [
    "Base_Credit.loc[pd.isnull(Base_Credit['age'])]\n",
    "print(Base_Credit.isnull().sum())"
   ]
  },
  {
   "cell_type": "code",
   "execution_count": null,
   "metadata": {},
   "outputs": [],
   "source": [
    "# Divisão entre previsore e classe\n",
    "print(Base_Credit.columns)\n",
    "\n",
    "#Previsores:\n",
    "X_Base = Base_Credit.iloc[:, 0:4].values\n",
    "print(X_Base[0])\n",
    "\n",
    "# Classe:\n",
    "Y_Base = Base_Credit.iloc[:, 4].values\n",
    "print(Y_Base[0])"
   ]
  },
  {
   "cell_type": "code",
   "execution_count": null,
   "metadata": {},
   "outputs": [],
   "source": [
    "# Escalonamento dos valores:\n",
    "\n",
    "from sklearn.preprocessing import StandardScaler\n",
    "scaler_credit = StandardScaler()\n",
    "X_Base = scaler_credit.fit_transform(X_Base)\n",
    "print(X_Base[0])"
   ]
  },
  {
   "cell_type": "code",
   "execution_count": null,
   "metadata": {},
   "outputs": [],
   "source": [
    "# Divisão da base de treinamento e teste:\n",
    "\n",
    "from sklearn.model_selection import train_test_split\n",
    "\n",
    "X_Base_treinamento, Y_Base_treinamento, X_Base_teste, Y_Base_teste = train_test_split(X_Base, Y_Base, test_size= 0.25, random_state=0)"
   ]
  },
  {
   "cell_type": "code",
   "execution_count": null,
   "metadata": {},
   "outputs": [],
   "source": [
    "X_Base_treinamento.shape, Y_Base_treinamento.shape"
   ]
  },
  {
   "cell_type": "code",
   "execution_count": null,
   "metadata": {},
   "outputs": [],
   "source": [
    "X_Base_teste.shape, Y_Base_teste.shape"
   ]
  },
  {
   "cell_type": "code",
   "execution_count": null,
   "metadata": {},
   "outputs": [],
   "source": [
    "# Geração da base pre-processada:\n",
    "import pickle\n",
    "\n",
    "with open('credit.pkl', mode='wb') as file:\n",
    "    pickle.dump([X_Base_treinamento, Y_Base_treinamento, X_Base_teste, Y_Base_teste], file)"
   ]
  }
 ],
 "metadata": {
  "kernelspec": {
   "display_name": "Python 3",
   "language": "python",
   "name": "python3"
  },
  "language_info": {
   "codemirror_mode": {
    "name": "ipython",
    "version": 3
   },
   "file_extension": ".py",
   "mimetype": "text/x-python",
   "name": "python",
   "nbconvert_exporter": "python",
   "pygments_lexer": "ipython3",
   "version": "3.10.-1"
  },
  "orig_nbformat": 4
 },
 "nbformat": 4,
 "nbformat_minor": 2
}
