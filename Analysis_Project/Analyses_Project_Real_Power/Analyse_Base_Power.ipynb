{
 "cells": [
  {
   "cell_type": "code",
   "execution_count": null,
   "metadata": {},
   "outputs": [],
   "source": [
    "import pandas as pd\n",
    "\n",
    "Base_Power = pd.read_csv('T1.csv')\n",
    "Base_Power\n"
   ]
  },
  {
   "cell_type": "code",
   "execution_count": null,
   "metadata": {},
   "outputs": [],
   "source": [
    "Base_Power.describe()"
   ]
  },
  {
   "cell_type": "code",
   "execution_count": null,
   "metadata": {},
   "outputs": [],
   "source": [
    "Base_Power['Date/Time'] = pd.to_datetime(Base_Power['Date/Time'])\n",
    "Base_Power"
   ]
  },
  {
   "cell_type": "code",
   "execution_count": null,
   "metadata": {},
   "outputs": [],
   "source": [
    "Base_Power.info()"
   ]
  },
  {
   "cell_type": "code",
   "execution_count": null,
   "metadata": {},
   "outputs": [],
   "source": [
    "Base_Power.columns"
   ]
  },
  {
   "cell_type": "code",
   "execution_count": null,
   "metadata": {},
   "outputs": [],
   "source": [
    "Base_Power.isnull().sum()"
   ]
  },
  {
   "cell_type": "code",
   "execution_count": null,
   "metadata": {},
   "outputs": [],
   "source": [
    "import numpy as np\n",
    "\n",
    "print(np.unique(Base_Power['LV ActivePower (kW)'], return_counts=True))\n",
    "print(np.unique(Base_Power['Wind Speed (m/s)'], return_counts=True))"
   ]
  },
  {
   "cell_type": "code",
   "execution_count": null,
   "metadata": {},
   "outputs": [],
   "source": [
    "import matplotlib.pyplot as plt\n",
    "import seaborn as sns\n",
    "\n",
    "plt.figure(1)\n",
    "scatter1 = plt.scatter(Base_Power['LV ActivePower (kW)'], Base_Power['Wind Speed (m/s)'], alpha=0.6, c = Base_Power['LV ActivePower (kW)'])\n",
    "plt.show()\n",
    "\n",
    "plt.figure(2)\n",
    "scatter2 = plt.scatter(Base_Power['Theoretical_Power_Curve (KWh)'], Base_Power['Wind Speed (m/s)'], alpha=0.5, c = Base_Power['Theoretical_Power_Curve (KWh)'])\n",
    "plt.show()\n",
    "\n",
    "plt.figure(3)\n",
    "sns.scatterplot(data=Base_Power, x = Base_Power['Wind Speed (m/s)'], y = Base_Power['LV ActivePower (kW)'])\n",
    "\n",
    "plt.figure(4)\n",
    "sns.scatterplot(data=Base_Power, x = Base_Power['Wind Speed (m/s)'], y = Base_Power['Theoretical_Power_Curve (KWh)'])"
   ]
  }
 ],
 "metadata": {
  "kernelspec": {
   "display_name": "Python 3",
   "language": "python",
   "name": "python3"
  },
  "language_info": {
   "codemirror_mode": {
    "name": "ipython",
    "version": 3
   },
   "file_extension": ".py",
   "mimetype": "text/x-python",
   "name": "python",
   "nbconvert_exporter": "python",
   "pygments_lexer": "ipython3",
   "version": "3.10.10"
  },
  "orig_nbformat": 4
 },
 "nbformat": 4,
 "nbformat_minor": 2
}
