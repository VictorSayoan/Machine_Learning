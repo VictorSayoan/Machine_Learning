{
 "cells": [
  {
   "cell_type": "code",
   "execution_count": null,
   "metadata": {},
   "outputs": [],
   "source": [
    "import pprint\n",
    "import pandas as pd\n",
    "\n",
    "# Importação da base de dados:\n",
    "base = pd.read_csv('census.csv')\n",
    "pprint.pprint(base)\n",
    "pprint.pprint(base.describe())"
   ]
  },
  {
   "cell_type": "code",
   "execution_count": null,
   "metadata": {},
   "outputs": [],
   "source": [
    "import numpy as np\n",
    "import seaborn as sns\n",
    "import matplotlib.pyplot as plt\n",
    "import plotly.express as px\n",
    "import plotly.io as pio\n",
    "\n",
    "# Visualização dos dados:\n",
    "np.unique(base['income'], return_counts=True)\n",
    "\n",
    "sns.countplot(x=base['income'], data=base)\n",
    "plt.xlabel('Renda')\n",
    "plt.ylabel('Quantidade')\n",
    "plt.title('Renda dos cadastrados')\n",
    "plt.show()\n",
    "\n",
    "plt.hist(base['age'])\n",
    "plt.xlabel('Idade')\n",
    "plt.ylabel('Quantidade')\n",
    "plt.title('Idade dos cadastrados')\n",
    "plt.show()\n",
    "\n",
    "plt.hist(base['education-num'])\n",
    "plt.xlabel('Anos estudados')\n",
    "plt.ylabel('Quantidade')\n",
    "plt.title('Quantidade de anos estudados')\n",
    "plt.show()\n",
    "\n",
    "plt.hist(base['hour-per-week'])\n",
    "plt.xlabel('Horas trabalhadas')\n",
    "plt.ylabel('Quantidade')\n",
    "plt.title('Horas semanais trabalhadas')\n",
    "plt.show()\n",
    "\n",
    "'''grafico = px.treemap(base, path=['workclass'])\n",
    "grafico.show()\n",
    "\n",
    "grafico1 = px.treemap(base, path=['workclass', 'age'])\n",
    "grafico1.show()\n",
    "\n",
    "grafico2 = px.parallel_categories(base, dimensions=['age', 'income'])\n",
    "grafico2.show()'''"
   ]
  },
  {
   "cell_type": "code",
   "execution_count": null,
   "metadata": {},
   "outputs": [],
   "source": [
    "# Visão de todas as colunas:\n",
    "print(base.columns, end='\\n\\n')\n",
    "\n",
    "# Divisão entre previsores e classe:\n",
    "#   Previsores:\n",
    "X_base = base.iloc[:, 0:14].values\n",
    "print(X_base, end='\\n\\n')\n",
    "print(X_base[0], end='\\n\\n')\n",
    "\n",
    "#   Classe:\n",
    "Y_base = base.iloc[:, 14].values\n",
    "print(Y_base, end='\\n\\n')"
   ]
  },
  {
   "cell_type": "code",
   "execution_count": null,
   "metadata": {},
   "outputs": [],
   "source": [
    "# OBS: Como há valores categóricos (string) devemos fazer o tratamento deste valores,\n",
    "# de modo a transformá-los em números usando o LabelEncoder ou OneHotEncoder\n",
    "\n",
    "#   LabelEncoder:\n",
    "\n",
    "from sklearn.preprocessing import LabelEncoder\n",
    "\n",
    "for linha in range(0, len(X_base)):\n",
    "    for coluna in range(0, 14):\n",
    "        if isinstance(X_base[linha, coluna], str):\n",
    "            label_encoder = LabelEncoder()\n",
    "            X_base[:, coluna] = label_encoder.fit_transform(X_base[:, coluna])\n",
    "\n",
    "\n",
    "'''\n",
    "label_encoder_workclass = LabelEncoder()\n",
    "X_base[:, 1] = label_encoder_workclass.fit_transform(X_base[:, 1])\n",
    "\n",
    "label_encoder_education = LabelEncoder()\n",
    "X_base[:, 3] = label_encoder_education.fit_transform(X_base[:, 3])\n",
    "\n",
    "label_encoder_marital_status = LabelEncoder()\n",
    "X_base[:, 5] = label_encoder_marital_status.fit_transform(X_base[:, 5])\n",
    "\n",
    "label_encoder_occupation = LabelEncoder()\n",
    "X_base[:, 6] = label_encoder_occupation.fit_transform(X_base[:, 6])\n",
    "\n",
    "label_encoder_relationship = LabelEncoder()\n",
    "X_base[:, 7] = label_encoder_relationship.fit_transform(X_base[:, 7])\n",
    "\n",
    "label_encoder_race = LabelEncoder()\n",
    "X_base[:, 8] = label_encoder_race.fit_transform(X_base[:, 8])\n",
    "\n",
    "label_encoder_sex = LabelEncoder()\n",
    "X_base[:, 9] = label_encoder_sex.fit_transform(X_base[:, 9])\n",
    "\n",
    "label_encoder_native_country = LabelEncoder()\n",
    "X_base[:, 13] = label_encoder_native_country.fit_transform(X_base[:, 13])\n",
    "\n",
    "print(X_base[0], end='\\n\\n')'''"
   ]
  },
  {
   "cell_type": "code",
   "execution_count": null,
   "metadata": {},
   "outputs": [],
   "source": [
    "from sklearn.preprocessing import OneHotEncoder\n",
    "from sklearn.compose import ColumnTransformer\n",
    "\n",
    "onehotenconder_census = ColumnTransformer(transformers=[('OneHot', OneHotEncoder(), [1, 3, 5, 6, 7, 8, 9, 13])], remainder='passthrough')\n",
    "X_base = onehotenconder_census.fit_transform(X_base).toarray()"
   ]
  },
  {
   "cell_type": "code",
   "execution_count": null,
   "metadata": {},
   "outputs": [],
   "source": [
    "# Escalonamento de valores \n",
    "\n",
    "from sklearn.preprocessing import StandardScaler\n",
    "scaler_census = StandardScaler()\n",
    "X_base = scaler_census.fit_transform(X_base)\n",
    "print(X_base)\n",
    "\n",
    "# Todos os valores foram deixados na mesma escala."
   ]
  },
  {
   "cell_type": "code",
   "execution_count": null,
   "metadata": {},
   "outputs": [],
   "source": [
    "# Divisão das bases de treinamento e teste\n",
    "\n",
    "from sklearn.model_selection import train_test_split\n",
    "\n",
    "X_base_treinamento, X_base_teste, Y_base_treinamento, Y_base_teste = train_test_split(X_base, Y_base, test_size = 0.15, random_state=0)\n"
   ]
  },
  {
   "cell_type": "code",
   "execution_count": null,
   "metadata": {},
   "outputs": [],
   "source": [
    "X_base_treinamento.shape, Y_base_treinamento.shape"
   ]
  },
  {
   "cell_type": "code",
   "execution_count": null,
   "metadata": {},
   "outputs": [],
   "source": [
    "X_base_teste.shape, Y_base_teste.shape"
   ]
  },
  {
   "cell_type": "code",
   "execution_count": null,
   "metadata": {},
   "outputs": [],
   "source": [
    "# Armazenamento da base já pré-processada:\n",
    "\n",
    "import pickle\n",
    "\n",
    "with open('census.pkl', mode='wb') as f:\n",
    "    pickle.dump([X_base_treinamento, Y_base_treinamento, X_base_teste, Y_base_teste], f)\n"
   ]
  }
 ],
 "metadata": {
  "kernelspec": {
   "display_name": "Python 3",
   "language": "python",
   "name": "python3"
  },
  "language_info": {
   "codemirror_mode": {
    "name": "ipython",
    "version": 3
   },
   "file_extension": ".py",
   "mimetype": "text/x-python",
   "name": "python",
   "nbconvert_exporter": "python",
   "pygments_lexer": "ipython3",
   "version": "3.10.10"
  },
  "orig_nbformat": 4,
  "vscode": {
   "interpreter": {
    "hash": "a141e979f47d0321f552a3a7e629b4f252c2696d405db34dd45befa51abe3df3"
   }
  }
 },
 "nbformat": 4,
 "nbformat_minor": 2
}
