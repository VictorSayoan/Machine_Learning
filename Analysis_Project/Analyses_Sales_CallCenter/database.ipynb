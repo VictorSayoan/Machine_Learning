{
 "cells": [
  {
   "cell_type": "code",
   "execution_count": null,
   "metadata": {},
   "outputs": [],
   "source": [
    "# Importação das bibliotecas:\n",
    "import pandas as pd\n",
    "import plotly.graph_objects as go\n",
    "import plotly.express as px\n",
    "\n",
    "# Importação dos dados:\n",
    "base = pd.read_csv('dataset.csv')"
   ]
  },
  {
   "cell_type": "code",
   "execution_count": null,
   "metadata": {},
   "outputs": [],
   "source": [
    "# Tratamento dos valores:\n",
    "\n",
    "base.loc[base['Mês'] == 'Jan', 'Mês'] = 1\n",
    "base.loc[base['Mês'] == 'Fev', 'Mês'] = 2\n",
    "base.loc[base['Mês'] == 'Mar', 'Mês'] = 3\n",
    "base.loc[base['Mês'] == 'Abr', 'Mês'] = 4\n",
    "base.loc[base['Mês'] == 'Mai', 'Mês'] = 5\n",
    "base.loc[base['Mês'] == 'Jun', 'Mês'] = 6\n",
    "base.loc[base['Mês'] == 'Jul', 'Mês'] = 7\n",
    "base.loc[base['Mês'] == 'Ago', 'Mês'] = 8\n",
    "base.loc[base['Mês'] == 'Set', 'Mês'] = 9\n",
    "base.loc[base['Mês'] == 'Out', 'Mês'] = 10\n",
    "base.loc[base['Mês'] == 'Nov', 'Mês'] = 11\n",
    "base.loc[base['Mês'] == 'Dez', 'Mês'] = 12\n",
    "\n",
    "base['Mês'] = base['Mês'].astype(int)\n",
    "base['Dia'] = base['Dia'].astype(int)\n",
    "\n",
    "base['Chamadas Realizadas']=base['Chamadas Realizadas'].astype(int)\n",
    "\n",
    "base.loc[base['Status de Pagamento'] == 'Pago', 'Status de Pagamento'] = 1\n",
    "base.loc[base['Status de Pagamento'] == 'Não pago', 'Status de Pagamento'] = 0 \n",
    "base['Status de Pagamento'] = base['Status de Pagamento'].astype(int)\n",
    "\n",
    "base['Valor Pago'] = base['Valor Pago'].str.lstrip('R$ ')\n",
    "base['Valor Pago'] = base['Valor Pago'].astype(int)\n"
   ]
  },
  {
   "cell_type": "code",
   "execution_count": null,
   "metadata": {},
   "outputs": [],
   "source": [
    "base2 = base.groupby('Equipe')['Valor Pago'].sum().reset_index()\n",
    "fig1 = go.Figure(go.Bar(x=base2['Valor Pago'], y=base2['Equipe'], orientation='h', \n",
    "                        textposition='auto', text=base2['Valor Pago'], \n",
    "                        insidetextfont=dict(family='Times', size=12)))\n",
    "\n",
    "fig1.show()"
   ]
  },
  {
   "cell_type": "code",
   "execution_count": null,
   "metadata": {},
   "outputs": [],
   "source": [
    "base3 = base.groupby('Dia')['Chamadas Realizadas'].sum().reset_index()\n",
    "\n",
    "fig2 = go.Figure(go.Scatter(x=base3['Dia'], y=base3['Chamadas Realizadas'], mode='lines', fill='tonexty'))\n",
    "fig2.add_annotation(text='Chamadas realizadas por dia',\n",
    "                    xref='paper', yref='paper',\n",
    "                    font=dict(size=12, color='gray'),\n",
    "                    align='center', bgcolor='rgba(0, 0, 0, 0.8)',\n",
    "                    x=0.05, y=0.85, showarrow=False)\n",
    "fig2.add_annotation(text=f'Média: {round(base3[\"Chamadas Realizadas\"].mean(), 2)}',\n",
    "                    xref='paper', yref='paper',\n",
    "                    font=dict(size=12, color='gray'),\n",
    "                    align='center', bgcolor='rgba(0, 0, 0, 0.8)',\n",
    "                    x= 0.05, y=0.75, showarrow=False)\n",
    "fig2.show()\n",
    "\n"
   ]
  },
  {
   "cell_type": "code",
   "execution_count": null,
   "metadata": {},
   "outputs": [],
   "source": [
    "base4 = base.groupby('Mês')['Chamadas Realizadas'].sum().reset_index()\n",
    "\n",
    "fig3 = go.Figure(go.Scatter(x=base4['Mês'], y=base4['Chamadas Realizadas'], mode='lines', fill='tonexty'))\n",
    "\n",
    "fig3.add_annotation(text='Média de chamadas realizadas por mês',\n",
    "                    xref='paper', yref='paper',\n",
    "                    font=dict(size=12, color='gray'),\n",
    "                    align='center', bgcolor='rgba(0, 0, 0, 0.8)',\n",
    "                    x=0.05, y=0.85, showarrow=False)\n",
    "fig3.add_annotation(text=f\"Média: {round(base4['Chamadas Realizadas'].mean(), 2)}\",\n",
    "                    xref='paper', yref='paper',\n",
    "                    font=dict(size=12, color='gray'),\n",
    "                    align='center', bgcolor='rgba(0, 0, 0, 0.8)',\n",
    "                    x=0.05, y=0.75, showarrow=False)\n",
    "\n",
    "fig3.show()"
   ]
  },
  {
   "cell_type": "code",
   "execution_count": null,
   "metadata": {},
   "outputs": [],
   "source": [
    "base5 = base.groupby(['Equipe', 'Consultor'])['Valor Pago'].sum()\n",
    "base5 = base5.sort_values(ascending=False)\n",
    "base5 = base5.groupby('Equipe').head(1).reset_index()\n",
    "\n",
    "fig4 = go.Figure(go.Bar(x=base5['Consultor'], y=base5['Valor Pago'], textposition='auto'))\n",
    "fig4.show()"
   ]
  },
  {
   "cell_type": "code",
   "execution_count": null,
   "metadata": {},
   "outputs": [],
   "source": [
    "base6 = base.groupby(['Meio de Propaganda', 'Mês'])['Valor Pago'].sum().reset_index()\n",
    "\n",
    "fig5 = px.line(base6, y=\"Valor Pago\", x=\"Mês\", color=\"Meio de Propaganda\")\n",
    "fig5.show()"
   ]
  },
  {
   "cell_type": "code",
   "execution_count": null,
   "metadata": {},
   "outputs": [],
   "source": [
    "base7 = base.groupby('Meio de Propaganda')['Valor Pago'].sum().reset_index()\n",
    "fig6 = go.Figure(go.Pie(labels=base7['Meio de Propaganda'], values=base7['Valor Pago'], hole=0.7))\n",
    "fig6.show()"
   ]
  },
  {
   "cell_type": "code",
   "execution_count": null,
   "metadata": {},
   "outputs": [],
   "source": [
    "# Ganhos por mês separados por equipe:\n",
    "\n",
    "base8 = base.groupby(['Mês', 'Equipe'])['Valor Pago'].sum().reset_index()\n",
    "base8_group = base8.groupby('Mês')['Valor Pago'].sum().reset_index()\n",
    "\n",
    "\n",
    "fig7 = px.line(base8, y=\"Valor Pago\", x=\"Mês\", color=\"Equipe\")\n",
    "fig7.add_trace(go.Scatter(y=base8_group[\"Valor Pago\"], x=base8_group[\"Mês\"], mode='lines+markers', fill='tonexty', fillcolor= 'rgba(0, 0, 0, 0.1)', name='Total de Vendas'))\n",
    "fig7.show()"
   ]
  },
  {
   "cell_type": "code",
   "execution_count": null,
   "metadata": {},
   "outputs": [],
   "source": [
    "# Chamadas pagas e não pagas:\n",
    "\n",
    "base9 = base.groupby('Status de Pagamento')['Chamadas Realizadas'].sum()\n",
    "fig8 = go.Figure()\n",
    "fig8.add_trace(go.Pie(labels=['Não Pago', 'Pago'], values=base9, hole=0.6))\n",
    "fig8.show()"
   ]
  },
  {
   "cell_type": "code",
   "execution_count": null,
   "metadata": {},
   "outputs": [],
   "source": [
    "# Indicadores melhores consultores e suas respectivas equipes:\n",
    "\n",
    "base10 = base.groupby(['Consultor', 'Equipe'])['Valor Pago'].sum()\n",
    "base10.sort_values(ascending=False, inplace=True)\n",
    "base10 = base10.reset_index()\n",
    "\n",
    "fig9=go.Figure(go.Indicator(mode='number+delta', \n",
    "                            title={\"text\": f\"<span style='font size:150%'>{base10['Consultor'].iloc[0]} - Melhor consultor</span><br><span style='font-size:70%'>Em vendas - Em relaçao a média\"},\n",
    "                            value=base10['Valor Pago'].iloc[0],\n",
    "                            number={'prefix': \"R$\"},\n",
    "                            delta={'relative': True, 'valueformat':'.1%', 'reference':base10['Valor Pago'].mean()}))\n",
    "fig9.show()"
   ]
  },
  {
   "cell_type": "code",
   "execution_count": null,
   "metadata": {},
   "outputs": [],
   "source": [
    "nova_base2=base.groupby('Equipe')['Valor Pago'].sum()\n",
    "nova_base2.sort_values(ascending=False, inplace=True)\n",
    "nova_base2=nova_base2.reset_index()\n",
    "\n",
    "fig10=go.Figure(go.Indicator(mode='number+delta', \n",
    "                            title={\"text\": f\"<span style='font size:150%'>{nova_base2['Equipe'].iloc[0]} - Melhor Equipe</span><br><span style='font-size:70%'>Em vendas - Em relaçao a média\"},\n",
    "                            value=nova_base2['Valor Pago'].iloc[0],\n",
    "                            number={'prefix': \"R$\"},\n",
    "                            delta={'relative': True, 'valueformat':'.1%', 'reference':nova_base2['Valor Pago'].mean()}))\n",
    "fig10.show()"
   ]
  },
  {
   "cell_type": "code",
   "execution_count": null,
   "metadata": {},
   "outputs": [],
   "source": [
    "# Indicador de ganhos totais:\n",
    "\n",
    "fig11=go.Figure(go.Indicator(mode='number', \n",
    "                            title={\"text\": f\"<span style='font size:150%'>Ganho Total</span><br><span style='font-size:70%'>Em vendas - Em relaçao a média\"},\n",
    "                            value=base['Valor Pago'].sum(),\n",
    "                            number={'prefix': \"R$\"}))\n",
    "fig11.show()"
   ]
  },
  {
   "cell_type": "code",
   "execution_count": null,
   "metadata": {},
   "outputs": [],
   "source": [
    "# Indicador de total de chamadas:\n",
    "\n",
    "fig12=go.Figure(go.Indicator(mode='number', \n",
    "                            title={\"text\": f\"<span style='font size:150%'>Total de Chamadas</span>\"},\n",
    "                            value=len(base[base['Chamadas Realizadas']==1])))\n",
    "fig12.show()"
   ]
  },
  {
   "cell_type": "code",
   "execution_count": null,
   "metadata": {},
   "outputs": [],
   "source": [
    "base11 = base.groupby(['Equipe', 'Consultor'])['Valor Pago'].sum()\n",
    "base11 = base11.sort_values(ascending=False)\n",
    "base11 = base11.reset_index()\n",
    "base11 = base11.groupby('Equipe').head(1).reset_index()\n",
    "\n",
    "\n",
    "fig13 = go.Figure(go.Pie(labels=base11['Equipe'] + ' - ' + base11['Consultor'], values=base11['Valor Pago'], hole=0.6))\n",
    "fig13.show()"
   ]
  },
  {
   "cell_type": "code",
   "execution_count": null,
   "metadata": {},
   "outputs": [],
   "source": [
    "\n",
    "fig14 = go.Figure(go.Bar(x=base11['Consultor'], y=base11['Valor Pago'], textposition='auto', text=base11['Valor Pago']))\n",
    "fig14.show()"
   ]
  }
 ],
 "metadata": {
  "kernelspec": {
   "display_name": "Python 3",
   "language": "python",
   "name": "python3"
  },
  "language_info": {
   "codemirror_mode": {
    "name": "ipython",
    "version": 3
   },
   "file_extension": ".py",
   "mimetype": "text/x-python",
   "name": "python",
   "nbconvert_exporter": "python",
   "pygments_lexer": "ipython3",
   "version": "3.10.11"
  },
  "orig_nbformat": 4
 },
 "nbformat": 4,
 "nbformat_minor": 2
}
