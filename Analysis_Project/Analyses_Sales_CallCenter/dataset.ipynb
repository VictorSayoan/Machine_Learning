{
 "cells": [
  {
   "cell_type": "code",
   "execution_count": 103,
   "metadata": {},
   "outputs": [],
   "source": [
    "import pandas as pd\n",
    "import plotly.graph_objects as go\n",
    "import plotly.express as px\n",
    "\n",
    "# Importação da base de dados:\n",
    "base = pd.read_csv('dataset.csv')\n"
   ]
  },
  {
   "cell_type": "code",
   "execution_count": 104,
   "metadata": {},
   "outputs": [],
   "source": [
    "# Tratamento dos valores categóricos:\n",
    "\n",
    "base.loc[base['Mês'] == 'Jan', 'Mês'] = 1\n",
    "base.loc[base['Mês'] == 'Fev', 'Mês'] = 2\n",
    "base.loc[base['Mês'] == 'Mar', 'Mês'] = 3\n",
    "base.loc[base['Mês'] == 'Abr', 'Mês'] = 4\n",
    "base.loc[base['Mês'] == 'Mar', 'Mês'] = 5\n",
    "base.loc[base['Mês'] == 'Jun', 'Mês'] = 6\n",
    "base.loc[base['Mês'] == 'Jul', 'Mês'] = 7\n",
    "base.loc[base['Mês'] == 'Ago', 'Mês'] = 8\n",
    "base.loc[base['Mês'] == 'Set', 'Mês'] = 9\n",
    "base.loc[base['Mês'] == 'Out', 'Mês'] = 10\n",
    "base.loc[base['Mês'] == 'Nov', 'Mês'] = 11\n",
    "base.loc[base['Mês'] == 'Dez', 'Mês'] = 12\n",
    "\n",
    "base['Chamadas Realizadas'] = base['Chamadas Realizadas'].astype(int)\n",
    "base['Dia'] = base['Dia'].astype(int)\n",
    "\n",
    "base.loc[base['Status de Pagamento'] == 'Pago', 'Status de Pagamento'] = 1\n",
    "base.loc[base['Status de Pagamento'] == 'Não pago', 'Status de Pagamento'] = 0\n",
    "\n",
    "base['Status de Pagamento'] = base['Status de Pagamento'].astype(int)\n",
    "base['Valor Pago'] = base['Valor Pago'].str.lstrip('R$ ')\n",
    "base['Valor Pago'] = base['Valor Pago'].astype(int)"
   ]
  }
 ],
 "metadata": {
  "kernelspec": {
   "display_name": "Python 3",
   "language": "python",
   "name": "python3"
  },
  "language_info": {
   "codemirror_mode": {
    "name": "ipython",
    "version": 3
   },
   "file_extension": ".py",
   "mimetype": "text/x-python",
   "name": "python",
   "nbconvert_exporter": "python",
   "pygments_lexer": "ipython3",
   "version": "3.10.10"
  },
  "orig_nbformat": 4
 },
 "nbformat": 4,
 "nbformat_minor": 2
}
