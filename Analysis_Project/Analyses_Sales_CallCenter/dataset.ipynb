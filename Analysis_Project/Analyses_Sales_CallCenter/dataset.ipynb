{
 "cells": [
  {
   "cell_type": "code",
   "execution_count": null,
   "metadata": {},
   "outputs": [],
   "source": [
    "import pandas as pd\n",
    "import plotly.graph_objects as go\n",
    "import plotly.express as px\n",
    "\n",
    "# Importação da base de dados:\n",
    "base = pd.read_csv('dataset.csv')\n"
   ]
  },
  {
   "cell_type": "code",
   "execution_count": null,
   "metadata": {},
   "outputs": [],
   "source": [
    "# Tratamento dos valores categóricos:\n",
    "\n",
    "base.loc[base['Mês'] == 'Jan', 'Mês'] = 1\n",
    "base.loc[base['Mês'] == 'Fev', 'Mês'] = 2\n",
    "base.loc[base['Mês'] == 'Mar', 'Mês'] = 3\n",
    "base.loc[base['Mês'] == 'Abr', 'Mês'] = 4\n",
    "base.loc[base['Mês'] == 'Mar', 'Mês'] = 5\n",
    "base.loc[base['Mês'] == 'Jun', 'Mês'] = 6\n",
    "base.loc[base['Mês'] == 'Jul', 'Mês'] = 7\n",
    "base.loc[base['Mês'] == 'Ago', 'Mês'] = 8\n",
    "base.loc[base['Mês'] == 'Set', 'Mês'] = 9\n",
    "base.loc[base['Mês'] == 'Out', 'Mês'] = 10\n",
    "base.loc[base['Mês'] == 'Nov', 'Mês'] = 11\n",
    "base.loc[base['Mês'] == 'Dez', 'Mês'] = 12\n",
    "\n",
    "base['Chamadas Realizadas'] = base['Chamadas Realizadas'].astype(int)\n",
    "base['Dia'] = base['Dia'].astype(int)\n",
    "\n",
    "base.loc[base['Status de Pagamento'] == 'Pago', 'Status de Pagamento'] = 1\n",
    "base.loc[base['Status de Pagamento'] == 'Não pago', 'Status de Pagamento'] = 0\n",
    "base['Status de Pagamento'] = base['Status de Pagamento'].astype(int)\n",
    "\n",
    "base['Valor Pago'] = base['Valor Pago'].str.lstrip('R$ ')\n",
    "base['Valor Pago'] = base['Valor Pago'].astype(int)"
   ]
  },
  {
   "cell_type": "code",
   "execution_count": null,
   "metadata": {},
   "outputs": [],
   "source": [
    "base"
   ]
  },
  {
   "cell_type": "code",
   "execution_count": null,
   "metadata": {},
   "outputs": [],
   "source": [
    "# Vendas por equipe:\n",
    "\n",
    "base1 = base.groupby('Equipe')['Valor Pago'].sum().reset_index()\n",
    "base1\n",
    "\n",
    "fig1 = go.Figure(go.Bar(x=base1['Valor Pago'], \n",
    "                        y=base1['Equipe'], \n",
    "                        orientation='h', \n",
    "                        textposition='auto', \n",
    "                        text=base1['Valor Pago'], \n",
    "                        insidetextfont=dict(family='Times', size=12)))\n",
    "\n",
    "fig1.show()"
   ]
  },
  {
   "cell_type": "code",
   "execution_count": null,
   "metadata": {},
   "outputs": [],
   "source": [
    "# Chamadas realizadas por equipe:\n",
    "\n",
    "base2 = base.groupby('Dia')['Chamadas Realizadas'].sum().reset_index()\n",
    "\n",
    "fig2 = go.Figure(go.Scatter(x=base2['Dia'],\n",
    "                            y=base2['Chamadas Realizadas'],\n",
    "                            mode='lines',\n",
    "                            fill='tonexty'))\n",
    "\n",
    "fig2.add_annotation(text='Médias de chamadas por dia', xref='paper', yref='paper,',\n",
    "                    font=dict(size=20, color='gray'),\n",
    "                    align=\"center\", bgcolor=\"rgba(0, 0, 0, 0.8)\",\n",
    "                    x=0.05, y=0.85, showarrow=False)\n",
    "fig2.add_annotation(text=f\"Média: {round(base2['Chamadas Realizadas'].mean(), 2)}\",\n",
    "                    font=dict(size=20, color='gray'),\n",
    "                    align=\"center\", bgcolor=\"rgba(0,0,0,0.8)\",\n",
    "                    x=0.05, y=0.55, showarrow=False)"
   ]
  },
  {
   "cell_type": "code",
   "execution_count": null,
   "metadata": {},
   "outputs": [],
   "source": [
    "# Chamadas Médias Por Mês\n",
    "\n",
    "base3 = base.groupby('Mês')['Chamadas Realizadas'].sum().reset_index()\n",
    "\n",
    "fig3 = go.Figure(go.Scatter(x=base3['Mês'],\n",
    "                            y=base3['Chamadas Realizadas'],\n",
    "                            mode='lines', \n",
    "                            fill='tonexty'))\n",
    "fig3.add_annotation(text='Médias de chamadas por mês',\n",
    "                    xref='paper', yref='paper',\n",
    "                    font=dict(size=20, color='gray'),\n",
    "                    align=\"center\", bgcolor=\"rgba(0, 0, 0,0.8)\",\n",
    "                    x=0.05, y=0.85, showarrow=False)\n",
    "fig3.add_annotation(text=f\"Médias:{round(base3['Chamadas Realizadas'].mean(),2)}\",\n",
    "                    xref='paper', yref='paper',\n",
    "                    font=dict(size=20, color='gray'),\n",
    "                    align=\"center\", bgcolor=\"rgba(0, 0, 0,0.8)\",\n",
    "                    x=0.05, y=0.55, showarrow=False)"
   ]
  }
 ],
 "metadata": {
  "kernelspec": {
   "display_name": "Python 3",
   "language": "python",
   "name": "python3"
  },
  "language_info": {
   "codemirror_mode": {
    "name": "ipython",
    "version": 3
   },
   "file_extension": ".py",
   "mimetype": "text/x-python",
   "name": "python",
   "nbconvert_exporter": "python",
   "pygments_lexer": "ipython3",
   "version": "3.10.10"
  },
  "orig_nbformat": 4,
  "vscode": {
   "interpreter": {
    "hash": "c1c7d1102a9abb4cf902ca5b5b7396ef51c29bf0c4b98df48e1942167d67f68c"
   }
  }
 },
 "nbformat": 4,
 "nbformat_minor": 2
}
