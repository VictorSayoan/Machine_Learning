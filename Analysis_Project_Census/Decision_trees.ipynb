{
 "cells": [
  {
   "cell_type": "code",
   "execution_count": null,
   "metadata": {},
   "outputs": [],
   "source": [
    "import pickle\n",
    "\n",
    "with open('census.pkl', mode='rb') as f:\n",
    "    X_base_treinamento, Y_base_treinamento, X_base_teste, Y_base_teste = pickle.load(f)\n",
    "\n",
    "\n",
    "print(X_base_teste.shape)\n",
    "print(Y_base_treinamento.shape)\n",
    "print(X_base_treinamento, end='\\n\\n')\n",
    "print(X_base_teste)"
   ]
  },
  {
   "cell_type": "code",
   "execution_count": null,
   "metadata": {},
   "outputs": [],
   "source": [
    "from sklearn.tree import DecisionTreeClassifier\n",
    "\n",
    "arvore_census = DecisionTreeClassifier(criterion='entropy', random_state=0)\n",
    "arvore_census.fit(X_base_treinamento, Y_base_treinamento)"
   ]
  },
  {
   "cell_type": "code",
   "execution_count": null,
   "metadata": {},
   "outputs": [],
   "source": [
    "from sklearn.metrics import accuracy_score, classification_report\n",
    "\n",
    "previsoes = arvore_census.predict(X_base_teste)\n",
    "print(previsoes)\n",
    "\n",
    "print(f'Taxa de acerto do algoritmo: {round(accuracy_score(Y_base_teste, previsoes), 2)*100}%')"
   ]
  },
  {
   "cell_type": "code",
   "execution_count": null,
   "metadata": {},
   "outputs": [],
   "source": [
    "from yellowbrick.classifier import ConfusionMatrix\n",
    "\n",
    "cm = ConfusionMatrix(arvore_census)\n",
    "cm.fit(X_base_treinamento, Y_base_treinamento)\n",
    "cm.score(X_base_teste, Y_base_teste)"
   ]
  },
  {
   "cell_type": "code",
   "execution_count": null,
   "metadata": {},
   "outputs": [],
   "source": [
    "print(classification_report(Y_base_teste, previsoes))"
   ]
  }
 ],
 "metadata": {
  "kernelspec": {
   "display_name": "Python 3",
   "language": "python",
   "name": "python3"
  },
  "language_info": {
   "codemirror_mode": {
    "name": "ipython",
    "version": 3
   },
   "file_extension": ".py",
   "mimetype": "text/x-python",
   "name": "python",
   "nbconvert_exporter": "python",
   "pygments_lexer": "ipython3",
   "version": "3.10.10"
  },
  "orig_nbformat": 4
 },
 "nbformat": 4,
 "nbformat_minor": 2
}
